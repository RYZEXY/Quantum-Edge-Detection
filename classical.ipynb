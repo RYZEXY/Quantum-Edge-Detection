{
 "cells": [
  {
   "cell_type": "code",
   "execution_count": 21,
   "id": "36fabb90",
   "metadata": {},
   "outputs": [],
   "source": [
    "import matplotlib.pyplot as plt\n",
    "import os\n",
    "from PIL import Image\n",
    "import numpy as np"
   ]
  },
  {
   "cell_type": "code",
   "execution_count": 22,
   "id": "85568673",
   "metadata": {},
   "outputs": [],
   "source": [
    "def classical_edge_detect(image, threshold_x, threshold_y, shift=True):\n",
    "    h, w = image.shape\n",
    "    edge_map = np.zeros_like(image)\n",
    "\n",
    "    for y in range(h):\n",
    "        for x in range(w):\n",
    "            val = image[y, x]\n",
    "\n",
    "            # X-gradient\n",
    "            if x + 1 < w:\n",
    "                gx = int(image[y, (x + 1) % w]) - int(val)\n",
    "                if abs(gx) >= threshold_x:\n",
    "                    dx = 1 if (shift and gx < 0) else 0\n",
    "                    edge_map[y, (x + dx) % w] = 1\n",
    "\n",
    "            # Y-gradient\n",
    "            if y + 1 < h:\n",
    "                gy = int(image[(y + 1) % h, x]) - int(val)\n",
    "                if abs(gy) >= threshold_y:\n",
    "                    dy = 1 if (shift and gy < 0) else 0\n",
    "                    edge_map[(y + dy) % h, x] = 1\n",
    "\n",
    "    return edge_map\n"
   ]
  },
  {
   "cell_type": "code",
   "execution_count": 23,
   "id": "573481aa",
   "metadata": {},
   "outputs": [],
   "source": [
    "def run_all_threshold_pairs(image, intensity_bits, output_dir=\"classical_edges\", visualize=False):\n",
    "    os.makedirs(output_dir, exist_ok=True)\n",
    "    max_threshold = 2 ** (intensity_bits)\n",
    "\n",
    "    for tx in range(max_threshold):\n",
    "        for ty in range(max_threshold):\n",
    "            edge_map = classical_edge_detect(image, threshold_x=tx, threshold_y=ty)\n",
    "\n",
    "            # Create figure\n",
    "            plt.figure(figsize=(4, 4))\n",
    "            plt.imshow(edge_map, cmap='gray', interpolation='nearest')\n",
    "            plt.colorbar(label='Edge')\n",
    "            plt.title(f'Edge Map\\nThresholds: X={tx}, Y={ty}')\n",
    "            plt.axis('off')\n",
    "\n",
    "            # Save with full figure context\n",
    "            filename = f\"{output_dir}/edge_tx{tx:02d}_ty{ty:02d}.png\"\n",
    "            plt.savefig(filename, bbox_inches='tight')\n",
    "            plt.close()\n",
    "\n",
    "            if visualize:\n",
    "                plt.show()\n",
    "\n",
    "    print(f\"Saved {max_threshold**2} full-size visualizations to {output_dir}\")\n"
   ]
  },
  {
   "cell_type": "code",
   "execution_count": 24,
   "id": "24b388b5",
   "metadata": {},
   "outputs": [
    {
     "name": "stdout",
     "output_type": "stream",
     "text": [
      "[[15 15 15 ... 15 15 15]\n",
      " [15 15 15 ... 15 15 15]\n",
      " [15 15 15 ... 15 15 15]\n",
      " ...\n",
      " [15 15 15 ... 15 15 15]\n",
      " [15 15 15 ... 15 15 15]\n",
      " [15 15 15 ... 15 15 15]]\n"
     ]
    }
   ],
   "source": [
    "def load_image(filepath, size=(16, 16)):\n",
    "    img = Image.open(filepath).convert('L')  # Grayscale\n",
    "    img = img.resize(size, Image.Resampling.LANCZOS)\n",
    "    img_array = np.array(img)\n",
    "    return img_array\n",
    "\n",
    "def normalize_image(image, bits=3):\n",
    "    max_val = 2**bits - 1\n",
    "    return np.round((image / 255) * max_val).astype(int)\n",
    "\n",
    "\n",
    "image = load_image('images/batman16.jpg', size=(64, 64))\n",
    "image = normalize_image(image,4)\n",
    "print(image)"
   ]
  },
  {
   "cell_type": "code",
   "execution_count": 25,
   "id": "b856e79f",
   "metadata": {},
   "outputs": [
    {
     "name": "stdout",
     "output_type": "stream",
     "text": [
      "Saved 256 full-size visualizations to classical_edges\n"
     ]
    }
   ],
   "source": [
    "run_all_threshold_pairs(image, intensity_bits=4, output_dir=\"classical_edges\")"
   ]
  }
 ],
 "metadata": {
  "kernelspec": {
   "display_name": ".venv",
   "language": "python",
   "name": "python3"
  },
  "language_info": {
   "codemirror_mode": {
    "name": "ipython",
    "version": 3
   },
   "file_extension": ".py",
   "mimetype": "text/x-python",
   "name": "python",
   "nbconvert_exporter": "python",
   "pygments_lexer": "ipython3",
   "version": "3.11.3"
  }
 },
 "nbformat": 4,
 "nbformat_minor": 5
}
