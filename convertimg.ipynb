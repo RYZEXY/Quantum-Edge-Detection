{
 "cells": [
  {
   "cell_type": "code",
   "execution_count": 1,
   "id": "5c1ad3f7",
   "metadata": {},
   "outputs": [],
   "source": [
    "from PIL import Image\n",
    "import numpy as np\n",
    "\n"
   ]
  },
  {
   "cell_type": "code",
   "execution_count": 2,
   "id": "ca1cb9a0",
   "metadata": {},
   "outputs": [],
   "source": [
    "def load_image(filepath, size=(4, 4)):\n",
    "    img = Image.open(filepath).convert('L')  # Grayscale\n",
    "    img = img.resize(size, Image.Resampling.LANCZOS)\n",
    "    img_array = np.array(img)\n",
    "    return img_array"
   ]
  },
  {
   "cell_type": "code",
   "execution_count": 3,
   "id": "7cda2a87",
   "metadata": {},
   "outputs": [],
   "source": [
    "def normalize_image(image, bits=3):\n",
    "    max_val = 2**bits - 1\n",
    "    return np.round((image / 255) * max_val).astype(int)\n"
   ]
  },
  {
   "cell_type": "code",
   "execution_count": null,
   "id": "26740051",
   "metadata": {},
   "outputs": [],
   "source": []
  }
 ],
 "metadata": {
  "kernelspec": {
   "display_name": ".venv",
   "language": "python",
   "name": "python3"
  },
  "language_info": {
   "codemirror_mode": {
    "name": "ipython",
    "version": 3
   },
   "file_extension": ".py",
   "mimetype": "text/x-python",
   "name": "python",
   "nbconvert_exporter": "python",
   "pygments_lexer": "ipython3",
   "version": "3.11.3"
  }
 },
 "nbformat": 4,
 "nbformat_minor": 5
}
