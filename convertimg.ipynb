{
 "cells": [
  {
   "cell_type": "code",
   "execution_count": 10,
   "id": "5c1ad3f7",
   "metadata": {},
   "outputs": [],
   "source": [
    "from PIL import Image\n",
    "import numpy as np\n",
    "import matplotlib.pyplot as plt\n",
    "\n"
   ]
  },
  {
   "cell_type": "code",
   "execution_count": 11,
   "id": "ca1cb9a0",
   "metadata": {},
   "outputs": [],
   "source": [
    "def load_image(filepath, size=(16, 16)):\n",
    "    img = Image.open(filepath).convert('L')  # Grayscale\n",
    "    img = img.resize(size, Image.Resampling.LANCZOS)\n",
    "    img_array = np.array(img)\n",
    "    return img_array"
   ]
  },
  {
   "cell_type": "code",
   "execution_count": 12,
   "id": "7cda2a87",
   "metadata": {},
   "outputs": [],
   "source": [
    "def normalize_image(image, bits=3):\n",
    "    max_val = 2**bits - 1\n",
    "    return np.round((image / 255) * max_val).astype(int)\n"
   ]
  },
  {
   "cell_type": "code",
   "execution_count": 13,
   "id": "26740051",
   "metadata": {},
   "outputs": [
    {
     "name": "stdout",
     "output_type": "stream",
     "text": [
      "[[15 15 15 ... 15 15 15]\n",
      " [15 15 15 ... 15 15 15]\n",
      " [15 15 15 ... 15 15 15]\n",
      " ...\n",
      " [15 15 15 ... 15 15 15]\n",
      " [15 15 15 ... 15 15 15]\n",
      " [15 15 15 ... 15 15 15]]\n"
     ]
    }
   ],
   "source": [
    "image = load_image('batman16.jpg',size=(64,64))\n",
    "image = normalize_image(image, bits=4)\n",
    "print(image)"
   ]
  },
  {
   "cell_type": "code",
   "execution_count": 14,
   "id": "df22dc7d",
   "metadata": {},
   "outputs": [
    {
     "data": {
      "image/png": "[encoded data removed]",
      "text/plain": [
       "<Figure size 640x480 with 2 Axes>"
      ]
     },
     "metadata": {},
     "output_type": "display_data"
    }
   ],
   "source": [
    "plt.imshow(image, cmap='gray', interpolation='nearest')\n",
    "plt.colorbar(label='Intensity')\n",
    "plt.title('Grayscale Image')\n",
    "plt.axis('off')  # Hide axis ticks\n",
    "plt.show()\n"
   ]
  }
 ],
 "metadata": {
  "kernelspec": {
   "display_name": ".venv",
   "language": "python",
   "name": "python3"
  },
  "language_info": {
   "codemirror_mode": {
    "name": "ipython",
    "version": 3
   },
   "file_extension": ".py",
   "mimetype": "text/x-python",
   "name": "python",
   "nbconvert_exporter": "python",
   "pygments_lexer": "ipython3",
   "version": "3.11.3"
  }
 },
 "nbformat": 4,
 "nbformat_minor": 5
}
