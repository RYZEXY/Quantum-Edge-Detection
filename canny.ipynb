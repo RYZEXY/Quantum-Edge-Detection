{
 "cells": [
  {
   "cell_type": "code",
   "execution_count": 22,
   "id": "8be029e1",
   "metadata": {},
   "outputs": [
    {
     "name": "stdout",
     "output_type": "stream",
     "text": [
      "Requirement already satisfied: opencv-python in c:\\users\\sunfr\\projects\\quantum-edge-detection\\.venv\\lib\\site-packages (4.12.0.88)\n",
      "Requirement already satisfied: numpy<2.3.0,>=2 in c:\\users\\sunfr\\projects\\quantum-edge-detection\\.venv\\lib\\site-packages (from opencv-python) (2.2.6)\n"
     ]
    }
   ],
   "source": [
    "!pip install opencv-python\n"
   ]
  },
  {
   "cell_type": "code",
   "execution_count": 25,
   "id": "07d3e288",
   "metadata": {},
   "outputs": [
    {
     "data": {
      "image/png": "[encoded data removed]",
      "text/plain": [
       "<Figure size 640x480 with 2 Axes>"
      ]
     },
     "metadata": {},
     "output_type": "display_data"
    }
   ],
   "source": [
    "import numpy as np\n",
    "import cv2 as cv\n",
    "from matplotlib import pyplot as plt\n",
    "from PIL import Image\n",
    "\n",
    "def load_image(filepath, size=(32, 32)):\n",
    "    img = Image.open(filepath).convert('L')  # Grayscale\n",
    "    img = img.resize(size, Image.Resampling.LANCZOS)\n",
    "    return np.array(img)\n",
    "\n",
    "def normalize_image(image, bits=3):\n",
    "    max_val = 2**bits - 1\n",
    "    return np.round((image / 255) * max_val).astype(int)\n",
    "\n",
    "# Load and normalize to 3-bit\n",
    "image = load_image('images/batman16.jpg', size=(64, 64))\n",
    "img_3bit = normalize_image(image, bits=3)  # shape (32,32), values 0–7\n",
    "\n",
    "# ✅ Rescale to 8-bit for Canny\n",
    "img_for_canny = (img_3bit * (255 // 7)).astype(np.uint8)\n",
    "\n",
    "# Apply Canny edge detection\n",
    "edges = cv.Canny(img_for_canny, 100, 200)\n",
    "\n",
    "# Display\n",
    "plt.subplot(121), plt.imshow(img_3bit, cmap='gray', vmin=0, vmax=7)\n",
    "plt.title('3-bit Grayscale Image'), plt.xticks([]), plt.yticks([])\n",
    "\n",
    "plt.subplot(122), plt.imshow(edges, cmap='gray')\n",
    "plt.title('Canny Edge Map'), plt.xticks([]), plt.yticks([])\n",
    "plt.show()\n"
   ]
  }
 ],
 "metadata": {
  "kernelspec": {
   "display_name": ".venv",
   "language": "python",
   "name": "python3"
  },
  "language_info": {
   "codemirror_mode": {
    "name": "ipython",
    "version": 3
   },
   "file_extension": ".py",
   "mimetype": "text/x-python",
   "name": "python",
   "nbconvert_exporter": "python",
   "pygments_lexer": "ipython3",
   "version": "3.11.3"
  }
 },
 "nbformat": 4,
 "nbformat_minor": 5
}
