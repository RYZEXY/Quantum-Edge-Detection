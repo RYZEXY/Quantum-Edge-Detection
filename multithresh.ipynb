{
 "cells": [
  {
   "cell_type": "code",
   "execution_count": 25,
   "id": "7031ab9f",
   "metadata": {},
   "outputs": [],
   "source": [
    "from qiskit import QuantumCircuit, QuantumRegister, ClassicalRegister, transpile\n",
    "from qiskit.circuit.library import QFTGate  \n",
    "from qiskit_aer import AerSimulator\n",
    "from qiskit_aer.primitives import Sampler as AerSampler\n",
    "from qiskit.transpiler.preset_passmanagers import generate_preset_pass_manager\n",
    "from qiskit.visualization import plot_histogram\n",
    "import matplotlib.pyplot as plt\n",
    "import numpy as np\n",
    "from qiskit.circuit.library.basis_change import QFT\n",
    "from neqr import neqr\n",
    "from ladder import ladder_up\n",
    "from enhanced_grover import filter_oracle\n",
    "from qsubtract import subtract\n",
    "from qadd import qft_adder\n",
    "from PIL import Image\n",
    "from qedgenod import qedgevh\n",
    "import os"
   ]
  },
  {
   "cell_type": "code",
   "execution_count": 26,
   "id": "d3e927fe",
   "metadata": {},
   "outputs": [],
   "source": [
    "num_bits = 3\n",
    "intensity_bits =  2\n",
    "dim = 2 ** num_bits"
   ]
  },
  {
   "cell_type": "code",
   "execution_count": 27,
   "id": "291bb7c7",
   "metadata": {},
   "outputs": [],
   "source": [
    "img_file = 'square.png'\n",
    "base_name = os.path.splitext(os.path.basename(img_file))[0]\n",
    "output_dir = f\"{base_name}_edges\"\n",
    "os.makedirs(output_dir, exist_ok=True)"
   ]
  },
  {
   "cell_type": "code",
   "execution_count": null,
   "id": "3727dc3b",
   "metadata": {},
   "outputs": [
    {
     "name": "stdout",
     "output_type": "stream",
     "text": [
      "[[0 0 0 0 0 0 0 0]\n",
      " [0 0 0 0 0 0 0 0]\n",
      " [0 0 1 1 1 1 0 0]\n",
      " [0 0 1 1 1 1 0 0]\n",
      " [0 0 1 1 1 1 0 0]\n",
      " [0 0 1 1 1 1 0 0]\n",
      " [0 0 0 0 0 0 0 0]\n",
      " [0 0 0 0 0 0 0 0]]\n"
     ]
    }
   ],
   "source": [
    "def load_image(filepath, size):\n",
    "    img = Image.open(filepath).convert('L')  # Grayscale\n",
    "    img = img.resize(size, Image.Resampling.LANCZOS)\n",
    "    img_array = np.array(img)\n",
    "    return img_array\n",
    "\n",
    "def normalize_image(image, bits=intensity_bits):\n",
    "    max_val = 2**bits - 1\n",
    "    return np.round((image / 255) * max_val).astype(int)\n",
    "    \n",
    "#image = load_image(img_file,size=(dim,dim))\n",
    "#image = normalize_image(image, bits=intensity_bits)\n",
    "image = np.array([\n",
    "    [0,0,0,0,0,0,0,0],\n",
    "    [0,0,0,0,0,0,0,0],\n",
    "    [0,0,1,1,1,1,0,0],\n",
    "    [0,0,1,1,1,1,0,0],\n",
    "    [0,0,1,1,1,1,0,0],\n",
    "    [0,0,1,1,1,1,0,0],\n",
    "    [0,0,0,0,0,0,0,0],\n",
    "    [0,0,0,0,0,0,0,0]\n",
    "\n",
    "])\n",
    "print(image)\n",
    "np.savetxt(\"normalized_image.txt\", image, fmt='%d')\n"
   ]
  },
  {
   "cell_type": "code",
   "execution_count": 29,
   "id": "cc293eca",
   "metadata": {},
   "outputs": [],
   "source": [
    "max_threshold = 2**(intensity_bits+1) - 1"
   ]
  },
  {
   "cell_type": "code",
   "execution_count": 30,
   "id": "f21dc65e",
   "metadata": {},
   "outputs": [
    {
     "name": "stdout",
     "output_type": "stream",
     "text": [
      "\n",
      "Running threshold: 000\n",
      "3\n",
      "[0, 0, 0]\n",
      "2 0\n",
      "max 2\n",
      "1 0\n",
      "0 0\n",
      "\n",
      "Running threshold: 001\n",
      "3\n",
      "[1, 0, 0]\n",
      "2 0\n",
      "max 2\n",
      "1 0\n",
      "0 1\n",
      "\n",
      "Running threshold: 010\n",
      "3\n",
      "[0, 1, 0]\n",
      "2 0\n",
      "max 2\n",
      "1 1\n",
      "0 0\n",
      "\n",
      "Running threshold: 011\n",
      "3\n",
      "[1, 1, 0]\n",
      "2 0\n",
      "max 2\n",
      "1 1\n",
      "0 1\n",
      "\n",
      "Running threshold: 100\n",
      "3\n",
      "[0, 0, 1]\n",
      "2 1\n",
      "1 0\n",
      "0 0\n",
      "\n",
      "Running threshold: 101\n",
      "3\n",
      "[1, 0, 1]\n",
      "2 1\n",
      "1 0\n",
      "0 1\n",
      "\n",
      "Running threshold: 110\n",
      "3\n",
      "[0, 1, 1]\n",
      "2 1\n",
      "1 1\n",
      "0 0\n"
     ]
    }
   ],
   "source": [
    "for t in range(max_threshold):\n",
    "    threshold = format(t, f'0{intensity_bits + 1}b')\n",
    "    print(f\"\\nRunning threshold: {threshold}\")\n",
    "        \n",
    "        # 3. Run quantum edge detection\n",
    "    counts = dict(qedgevh(image, threshold, num_bits, intensity_bits))\n",
    "        \n",
    "        # 4. Initialize edge image\n",
    "    dim = 2**num_bits\n",
    "    edge_img = np.zeros((dim, dim), dtype=int)\n",
    "\n",
    "        # 5. Parse measurement results\n",
    "    for qstate, count in counts.items():\n",
    "        qstate = qstate.replace(\" \", \"\")\n",
    "\n",
    "        if len(qstate) < 1 + 2 * num_bits:\n",
    "            print(\"error\")\n",
    "            continue\n",
    "\n",
    "        intensity_bin = qstate[:1]\n",
    "        y_bin = qstate[1:1 + num_bits]\n",
    "        x_bin = qstate[1 + num_bits:1 + 2*num_bits]\n",
    "\n",
    "        intensity = int(intensity_bin, 2)\n",
    "        y = int(y_bin, 2)\n",
    "        x = int(x_bin, 2)\n",
    "\n",
    "        edge_img[y, x] = intensity\n",
    "\n",
    "        # 6. Display output\n",
    "    plt.imshow(edge_img, cmap='gray_r', interpolation='nearest')\n",
    "    plt.colorbar(label='Intensity')\n",
    "    plt.title(f'Edge Filtered Image\\nThreshold: {threshold}')\n",
    "    plt.axis('off')\n",
    "    out_path = os.path.join(output_dir, f\"{base_name}_threshold_{threshold}_size{num_bits}.png\")\n",
    "    np.savetxt(os.path.join(output_dir, f\"{base_name}_threshold_{threshold}.txt\"), edge_img, fmt='%d')\n",
    "\n",
    "    plt.savefig(out_path, bbox_inches='tight')\n",
    "    plt.close()  # Close the figure to avoid memory bloat "
   ]
  }
 ],
 "metadata": {
  "kernelspec": {
   "display_name": ".venv",
   "language": "python",
   "name": "python3"
  },
  "language_info": {
   "codemirror_mode": {
    "name": "ipython",
    "version": 3
   },
   "file_extension": ".py",
   "mimetype": "text/x-python",
   "name": "python",
   "nbconvert_exporter": "python",
   "pygments_lexer": "ipython3",
   "version": "3.11.3"
  }
 },
 "nbformat": 4,
 "nbformat_minor": 5
}
