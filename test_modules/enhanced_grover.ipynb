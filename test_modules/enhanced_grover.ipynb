{
 "cells": [
  {
   "cell_type": "code",
   "execution_count": 12,
   "id": "c34ed83e",
   "metadata": {},
   "outputs": [],
   "source": [
    "from qiskit import QuantumCircuit, QuantumRegister, ClassicalRegister, transpile\n",
    "from qiskit.circuit.library import QFTGate  \n",
    "from qiskit_aer import AerSimulator\n",
    "from qiskit_aer.primitives import Sampler as AerSampler\n",
    "from qiskit.transpiler.preset_passmanagers import generate_preset_pass_manager\n",
    "from qiskit.visualization import plot_histogram\n",
    "import matplotlib.pyplot as plt\n",
    "import numpy as np\n",
    "from qiskit.circuit.library.basis_change import QFT\n",
    "from qiskit.circuit.library import GroverOperator, MCMT, ZGate\n",
    "\n"
   ]
  },
  {
   "cell_type": "code",
   "execution_count": 13,
   "id": "23f29726",
   "metadata": {},
   "outputs": [],
   "source": [
    "def grover_phase_oracle(marked):\n",
    "    num_qubits = len(marked[0])\n",
    "\n",
    "    oracle = QuantumCircuit(num_qubits)\n",
    "\n",
    "    for state in marked:\n",
    "        qstate = state[::-1]\n",
    "        flip = [i for i in range(num_qubits) if qstate.startswith(\"0\",i)]\n",
    "        oracle.x(flip)\n",
    "        oracle.compose(MCMT(ZGate(),num_qubits-1,1), inplace=True)\n",
    "        oracle.x(flip)\n",
    "    \n",
    "    return oracle\n"
   ]
  },
  {
   "cell_type": "code",
   "execution_count": 14,
   "id": "62331ba6",
   "metadata": {},
   "outputs": [
    {
     "name": "stderr",
     "output_type": "stream",
     "text": [
      "C:\\Users\\sunfr\\AppData\\Local\\Temp\\ipykernel_30320\\440864009.py:10: DeprecationWarning: The class ``qiskit.circuit.library.generalized_gates.mcmt.MCMT`` is deprecated as of Qiskit 1.4. It will be removed no earlier than 3 months after the release date. Use MCMTGate instead.\n",
      "  oracle.compose(MCMT(ZGate(),num_qubits-1,1), inplace=True)\n"
     ]
    },
    {
     "data": {
      "image/png": "[encoded data removed]",
      "text/plain": [
       "<Figure size 538.33x284.278 with 1 Axes>"
      ]
     },
     "execution_count": 14,
     "metadata": {},
     "output_type": "execute_result"
    }
   ],
   "source": [
    "marked_states = [\"011\", \"100\"]\n",
    "\n",
    "oracle = grover_phase_oracle(marked_states)\n",
    "oracle.draw(output=\"mpl\", style=\"iqp\")"
   ]
  },
  {
   "cell_type": "code",
   "execution_count": 15,
   "id": "cc401cc3",
   "metadata": {},
   "outputs": [],
   "source": [
    "def filter_oracle(threshold):\n",
    "    num_qubits = len(threshold)\n",
    "    print(num_qubits)\n",
    "    oracle = QuantumCircuit(num_qubits, name=\"FTO\")\n",
    "\n",
    "    state = threshold[::-1]\n",
    "    bstr = [int(b) for b in state]\n",
    "    print(bstr)\n",
    "\n",
    "    temp = []\n",
    "    max = num_qubits - 1\n",
    "\n",
    "    \n",
    "\n",
    "    for i in reversed(range(num_qubits)):\n",
    "        print(i, bstr[i])\n",
    "        if bstr[i] == 0:\n",
    "            if num_qubits == 1:\n",
    "                oracle.z(i)\n",
    "            else:\n",
    "                if i != max:\n",
    "                    \n",
    "                    controls = list(range(i + 1, num_qubits))\n",
    "                    cz = ZGate().control(len(controls))\n",
    "                    target = i\n",
    "\n",
    "                    #equivalent to multi control z\n",
    "                    # oracle.h(target)\n",
    "                    # oracle.mcx(controls, target, mode='noancilla')\n",
    "                    # oracle.h(target)\n",
    "\n",
    "                    all_qubits = [oracle.qubits[i] for i in controls + [target]]\n",
    "                    oracle.append(cz, all_qubits)\n",
    "                else:\n",
    "                    oracle.z(i)\n",
    "            oracle.x(i)\n",
    "            temp.append(i)\n",
    "    oracle.x(temp)\n",
    "    return oracle.to_gate()\n",
    "    \n",
    "        \n"
   ]
  },
  {
   "cell_type": "code",
   "execution_count": 16,
   "id": "e0fae606",
   "metadata": {},
   "outputs": [
    {
     "name": "stdout",
     "output_type": "stream",
     "text": [
      "3\n",
      "[1, 0, 0]\n",
      "2 0\n",
      "1 0\n",
      "0 1\n"
     ]
    },
    {
     "data": {
      "image/png": "[encoded data removed]",
      "text/plain": [
       "<Figure size 538.33x284.278 with 1 Axes>"
      ]
     },
     "execution_count": 16,
     "metadata": {},
     "output_type": "execute_result"
    }
   ],
   "source": [
    "qc = QuantumCircuit(3)\n",
    "\n",
    "oracle = filter_oracle(\"001\")\n",
    "qc.append(oracle, qc.qubits)\n",
    "\n",
    "qc.decompose().draw('mpl')"
   ]
  },
  {
   "cell_type": "code",
   "execution_count": 17,
   "id": "b9826d82",
   "metadata": {},
   "outputs": [
    {
     "name": "stdout",
     "output_type": "stream",
     "text": [
      "1\n",
      "[0]\n",
      "0 0\n"
     ]
    },
    {
     "data": {
      "image/png": "[encoded data removed]",
      "text/plain": [
       "<Figure size 404.751x284.278 with 1 Axes>"
      ]
     },
     "execution_count": 17,
     "metadata": {},
     "output_type": "execute_result"
    }
   ],
   "source": [
    "a = QuantumRegister(1, name='a')\n",
    "grad = QuantumRegister(1,name='Grad')\n",
    "cr = ClassicalRegister(2)\n",
    "\n",
    "qc = QuantumCircuit(a, grad, cr)\n",
    "\n",
    "#qc.h(grad)\n",
    "\n",
    "qc.h(a)\n",
    "\n",
    "og = filter_oracle(\"0\")\n",
    "cog = og.control(1)\n",
    "qc.append(cog, list(a) + list(grad))\n",
    "\n",
    "qc.h(a[0])\n",
    "#qc.measure(list(a) + list(grad), range(4))\n",
    "\n",
    "\n",
    "qc.draw('mpl')\n"
   ]
  },
  {
   "cell_type": "code",
   "execution_count": 18,
   "id": "c8e65c26",
   "metadata": {},
   "outputs": [
    {
     "ename": "QiskitError",
     "evalue": "'No counts for experiment \"<qiskit.circuit.quantumcircuit.QuantumCircuit object at 0x0000021ECF7CEB90>\"'",
     "output_type": "error",
     "traceback": [
      "\u001b[31m---------------------------------------------------------------------------\u001b[39m",
      "\u001b[31mQiskitError\u001b[39m                               Traceback (most recent call last)",
      "\u001b[36mCell\u001b[39m\u001b[36m \u001b[39m\u001b[32mIn[18]\u001b[39m\u001b[32m, line 5\u001b[39m\n\u001b[32m      2\u001b[39m circ = transpile(qc, simulator)\n\u001b[32m      4\u001b[39m result = simulator.run(circ).result()\n\u001b[32m----> \u001b[39m\u001b[32m5\u001b[39m counts = \u001b[43mresult\u001b[49m\u001b[43m.\u001b[49m\u001b[43mget_counts\u001b[49m\u001b[43m(\u001b[49m\u001b[43mcirc\u001b[49m\u001b[43m)\u001b[49m\n\u001b[32m      6\u001b[39m plot_histogram(counts, title=\u001b[33m'\u001b[39m\u001b[33mBell-State counts\u001b[39m\u001b[33m'\u001b[39m)\n",
      "\u001b[36mFile \u001b[39m\u001b[32mc:\\Users\\sunfr\\projects\\Quantum-Edge-Detection\\.venv\\Lib\\site-packages\\qiskit\\result\\result.py:276\u001b[39m, in \u001b[36mResult.get_counts\u001b[39m\u001b[34m(self, experiment)\u001b[39m\n\u001b[32m    274\u001b[39m         dict_list.append(statevector.Statevector(vec).probabilities_dict(decimals=\u001b[32m15\u001b[39m))\n\u001b[32m    275\u001b[39m     \u001b[38;5;28;01melse\u001b[39;00m:\n\u001b[32m--> \u001b[39m\u001b[32m276\u001b[39m         \u001b[38;5;28;01mraise\u001b[39;00m QiskitError(\u001b[33mf\u001b[39m\u001b[33m'\u001b[39m\u001b[33mNo counts for experiment \u001b[39m\u001b[33m\"\u001b[39m\u001b[38;5;132;01m{\u001b[39;00m\u001b[38;5;28mrepr\u001b[39m(key)\u001b[38;5;132;01m}\u001b[39;00m\u001b[33m\"\u001b[39m\u001b[33m'\u001b[39m)\n\u001b[32m    278\u001b[39m \u001b[38;5;66;03m# Return first item of dict_list if size is 1\u001b[39;00m\n\u001b[32m    279\u001b[39m \u001b[38;5;28;01mif\u001b[39;00m \u001b[38;5;28mlen\u001b[39m(dict_list) == \u001b[32m1\u001b[39m:\n",
      "\u001b[31mQiskitError\u001b[39m: 'No counts for experiment \"<qiskit.circuit.quantumcircuit.QuantumCircuit object at 0x0000021ECF7CEB90>\"'"
     ]
    }
   ],
   "source": [
    "simulator = AerSimulator()\n",
    "circ = transpile(qc, simulator)\n",
    "\n",
    "result = simulator.run(circ).result()\n",
    "counts = result.get_counts(circ)\n",
    "plot_histogram(counts, title='Bell-State counts')"
   ]
  }
 ],
 "metadata": {
  "kernelspec": {
   "display_name": ".venv",
   "language": "python",
   "name": "python3"
  },
  "language_info": {
   "codemirror_mode": {
    "name": "ipython",
    "version": 3
   },
   "file_extension": ".py",
   "mimetype": "text/x-python",
   "name": "python",
   "nbconvert_exporter": "python",
   "pygments_lexer": "ipython3",
   "version": "3.11.3"
  }
 },
 "nbformat": 4,
 "nbformat_minor": 5
}
