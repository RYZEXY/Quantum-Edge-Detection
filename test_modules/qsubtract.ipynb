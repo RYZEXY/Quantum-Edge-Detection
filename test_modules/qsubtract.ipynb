{
 "cells": [
  {
   "cell_type": "code",
   "execution_count": 1,
   "id": "440d2404",
   "metadata": {},
   "outputs": [],
   "source": [
    "from qiskit import QuantumCircuit, QuantumRegister, ClassicalRegister, transpile\n",
    "from qiskit.circuit.library import QFTGate  \n",
    "from qiskit_aer import AerSimulator\n",
    "from qiskit_aer.primitives import Sampler as AerSampler\n",
    "from qiskit.transpiler.preset_passmanagers import generate_preset_pass_manager\n",
    "from qiskit.visualization import plot_histogram\n",
    "import matplotlib.pyplot as plt\n",
    "import numpy as np\n",
    "from qiskit.circuit.library.basis_change import QFT\n"
   ]
  },
  {
   "cell_type": "code",
   "execution_count": 2,
   "id": "9b33a01d",
   "metadata": {},
   "outputs": [],
   "source": [
    "def multi_x_gate(num_targets, num_ctrl):\n",
    "    qc = QuantumCircuit(num_targets, name=\"X\")\n",
    "    for i in range(num_targets):\n",
    "        qc.x(i)\n",
    "    return qc.to_gate().control(num_ctrl)"
   ]
  },
  {
   "cell_type": "code",
   "execution_count": 3,
   "id": "897b8916",
   "metadata": {},
   "outputs": [],
   "source": [
    "def qft_adder(x, y, c):\n",
    "    adder = QuantumCircuit(x,y,c, name = \"Add\")\n",
    "    num_bits = len(x)\n",
    "\n",
    "    # QFT on y\n",
    "    adder.append(QFT(num_bits+1, do_swaps=False).to_gate(), list(y) + [c[0]])\n",
    "    \n",
    "    for i in range(num_bits):\n",
    "        for j in range(i + 1):\n",
    "            angle = np.pi / (2 ** (i - j))\n",
    "            adder.cp(angle, x[j], y[i])\n",
    "\n",
    "    for j in range(num_bits):\n",
    "        angle = np.pi / (2 ** (num_bits - j))\n",
    "        adder.cp(angle, x[j], c[0])\n",
    "\n",
    "    # Inverse QFT on y\n",
    "    adder.append(QFT(num_bits+1, do_swaps=False, inverse=True).to_gate(), list(y) + [c[0]])\n",
    "\n",
    "\n",
    "    adder = adder.to_gate()\n",
    "    return adder"
   ]
  },
  {
   "cell_type": "code",
   "execution_count": 4,
   "id": "35f9b60d",
   "metadata": {},
   "outputs": [],
   "source": [
    "def s2c(x,y,c):\n",
    "    num_bits = len(x)\n",
    "\n",
    "    qc = QuantumCircuit(y, c, name=\"S2C\")\n",
    "\n",
    "    sum_reg = list(y) + [c[0]]  # q = y0 ... yn,c\n",
    "\n",
    "\n",
    "    for i in range(1, num_bits + 1):\n",
    "        controls = sum_reg[:i]                 \n",
    "        targets = sum_reg[i:]                  \n",
    "        if targets:\n",
    "            gate = multi_x_gate(num_targets=len(targets), num_ctrl=len(controls))\n",
    "            qc.append(gate, controls + targets)\n",
    "\n",
    "        if i != num_bits:\n",
    "            qc.x(sum_reg[i-1])\n",
    "        elif num_bits > 1:\n",
    "            qc.x(sum_reg[0:num_bits - 1])\n",
    "\n",
    "    qc = qc.to_gate()\n",
    "\n",
    "    return qc\n",
    "\n"
   ]
  },
  {
   "cell_type": "code",
   "execution_count": 5,
   "id": "2b258f84",
   "metadata": {},
   "outputs": [],
   "source": [
    "def smalls2c(y):\n",
    "    num_bits = len(y)\n",
    "    qc = QuantumCircuit(y, name=\"S2C\")\n",
    "\n",
    "    sum_reg = list(y)  # q = y0 ... yn\n",
    "\n",
    "\n",
    "    for i in range(1, num_bits + 1):\n",
    "        controls = sum_reg[:i]                 \n",
    "        targets = sum_reg[i:]                  \n",
    "        if targets:\n",
    "            gate = multi_x_gate(num_targets=len(targets), num_ctrl=len(controls))\n",
    "            qc.append(gate, controls + targets)\n",
    "        if i != num_bits:\n",
    "            qc.x(sum_reg[i-1])\n",
    "        elif num_bits > 1:\n",
    "            qc.x(sum_reg[0:num_bits - 1])\n",
    "\n",
    "    qc = qc.to_gate().control()\n",
    "\n",
    "    return qc"
   ]
  },
  {
   "cell_type": "code",
   "execution_count": 6,
   "id": "4e9fc7de",
   "metadata": {},
   "outputs": [],
   "source": [
    "def ctrls2c(x,y,c):\n",
    "\n",
    "\n",
    "    qc = smalls2c(y)\n",
    "\n",
    "    qc.append(qc, list(c) + list(y))\n",
    "\n",
    "    return qc"
   ]
  },
  {
   "cell_type": "code",
   "execution_count": 7,
   "id": "382d0b72",
   "metadata": {},
   "outputs": [],
   "source": [
    "def subtract(x,y,c):\n",
    "    qc = QuantumCircuit(x,y,c, name = \"Sub\")\n",
    "    num_bits = len(x)\n",
    "    s2c_gate = s2c(x,y,c)\n",
    "    qc.append(s2c_gate, list(y) + list(c))\n",
    "\n",
    "    adder = qft_adder(x,y,c)\n",
    "    qc.append(adder,list(x) + list(y) + list(c))\n",
    "    ctrls2c = smalls2c(y)\n",
    "    qc.append(ctrls2c, list(c)+list(y))\n",
    "\n",
    "    qc = qc.to_gate()\n",
    "    return qc"
   ]
  },
  {
   "cell_type": "code",
   "execution_count": 8,
   "id": "65e422d1",
   "metadata": {},
   "outputs": [
    {
     "name": "stderr",
     "output_type": "stream",
     "text": [
      "C:\\Users\\sunfr\\AppData\\Local\\Temp\\ipykernel_37668\\1019000970.py:6: DeprecationWarning: The class ``qiskit.circuit.library.basis_change.qft.QFT`` is deprecated as of Qiskit 2.1. It will be removed in Qiskit 3.0. ('Use qiskit.circuit.library.QFTGate or qiskit.synthesis.qft.synth_qft_full instead, for access to all previous arguments.',)\n",
      "  adder.append(QFT(num_bits+1, do_swaps=False).to_gate(), list(y) + [c[0]])\n",
      "C:\\Users\\sunfr\\AppData\\Local\\Temp\\ipykernel_37668\\1019000970.py:18: DeprecationWarning: The class ``qiskit.circuit.library.basis_change.qft.QFT`` is deprecated as of Qiskit 2.1. It will be removed in Qiskit 3.0. ('Use qiskit.circuit.library.QFTGate or qiskit.synthesis.qft.synth_qft_full instead, for access to all previous arguments.',)\n",
      "  adder.append(QFT(num_bits+1, do_swaps=False, inverse=True).to_gate(), list(y) + [c[0]])\n"
     ]
    },
    {
     "data": {
      "image/png": "[encoded data removed]",
      "text/plain": [
       "<Figure size 787.961x702.333 with 1 Axes>"
      ]
     },
     "execution_count": 8,
     "metadata": {},
     "output_type": "execute_result"
    }
   ],
   "source": [
    "num_bits = 3\n",
    "x_val = 7\n",
    "y_val = 3\n",
    "num_total_qubits = 2 * num_bits + 1\n",
    "\n",
    "x = QuantumRegister(num_bits, name='x')\n",
    "y = QuantumRegister(num_bits, name='y')\n",
    "c = QuantumRegister(1, name='c')\n",
    "c2 = QuantumRegister(2, name='c2')\n",
    "cr = ClassicalRegister(num_bits+1)\n",
    "qc = QuantumCircuit(x, y, c, cr)\n",
    "\n",
    "for i in range(num_bits):\n",
    "    if (x_val >> i) & 1:\n",
    "        qc.x(x[i])\n",
    "    if (y_val >> i) & 1:\n",
    "        qc.x(y[i])\n",
    "\n",
    "s2c_gate = s2c(x,y,c)\n",
    "qc.append(s2c_gate, list(y) + list(c))\n",
    "adder = qft_adder(x,y,c)\n",
    "qc.append(adder,list(x) + list(y) + list(c))\n",
    "ctrls2c = smalls2c(y)\n",
    "qc.append(ctrls2c, list(c)+list(y))\n",
    "\n",
    "\n",
    "\n",
    "qc.measure(list(y) + list(c), range(num_bits+1))\n",
    "\n",
    "qc.draw('mpl')"
   ]
  },
  {
   "cell_type": "code",
   "execution_count": null,
   "id": "9ad0e7f8",
   "metadata": {},
   "outputs": [],
   "source": []
  },
  {
   "cell_type": "code",
   "execution_count": 9,
   "id": "02e48afe",
   "metadata": {},
   "outputs": [
    {
     "data": {
      "image/png": "[encoded data removed]",
      "text/plain": [
       "<Figure size 640x480 with 1 Axes>"
      ]
     },
     "execution_count": 9,
     "metadata": {},
     "output_type": "execute_result"
    }
   ],
   "source": [
    "simulator = AerSimulator()\n",
    "circ = transpile(qc, simulator)\n",
    "\n",
    "result = simulator.run(circ).result()\n",
    "counts = result.get_counts(circ)\n",
    "plot_histogram(counts, title='Bell-State counts')"
   ]
  }
 ],
 "metadata": {
  "kernelspec": {
   "display_name": ".venv",
   "language": "python",
   "name": "python3"
  },
  "language_info": {
   "codemirror_mode": {
    "name": "ipython",
    "version": 3
   },
   "file_extension": ".py",
   "mimetype": "text/x-python",
   "name": "python",
   "nbconvert_exporter": "python",
   "pygments_lexer": "ipython3",
   "version": "3.11.3"
  }
 },
 "nbformat": 4,
 "nbformat_minor": 5
}
