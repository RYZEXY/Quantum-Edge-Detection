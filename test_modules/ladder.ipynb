{
 "cells": [
  {
   "cell_type": "code",
   "execution_count": 38,
   "id": "b4dc0579",
   "metadata": {},
   "outputs": [],
   "source": [
    "from qiskit import QuantumCircuit, QuantumRegister, ClassicalRegister, transpile\n",
    "from qiskit.circuit.library import QFTGate  \n",
    "from qiskit_aer import AerSimulator\n",
    "from qiskit_aer.primitives import Sampler as AerSampler\n",
    "from qiskit.transpiler.preset_passmanagers import generate_preset_pass_manager\n",
    "from qiskit.visualization import plot_histogram\n",
    "import matplotlib.pyplot as plt\n",
    "import numpy as np\n",
    "from qiskit.circuit.library.basis_change import QFT\n"
   ]
  },
  {
   "cell_type": "code",
   "execution_count": 39,
   "id": "8aa75e3a",
   "metadata": {},
   "outputs": [],
   "source": [
    "def ladder_up(x):\n",
    "    n = len(x)\n",
    "    qc = QuantumCircuit(x, name=\"a†\")\n",
    "\n",
    "    for i in reversed(range(n)):\n",
    "        controls = x[:i]\n",
    "        if controls:\n",
    "            qc.mcx(controls, x[i])\n",
    "        else:\n",
    "            qc.x(x[i])\n",
    "    return qc.to_gate()"
   ]
  },
  {
   "cell_type": "code",
   "execution_count": 40,
   "id": "885d3caa",
   "metadata": {},
   "outputs": [
    {
     "data": {
      "image/png": "[encoded data removed]",
      "text/plain": [
       "<Figure size 184.251x117.056 with 1 Axes>"
      ]
     },
     "execution_count": 40,
     "metadata": {},
     "output_type": "execute_result"
    }
   ],
   "source": [
    "x = QuantumRegister(1, name='x')\n",
    "ladder = ladder_up(x)\n",
    "qc = QuantumCircuit(x)\n",
    "qc.append(ladder, list(x))\n",
    "qc.draw('mpl')"
   ]
  },
  {
   "cell_type": "markdown",
   "id": "c174f926",
   "metadata": {},
   "source": []
  }
 ],
 "metadata": {
  "kernelspec": {
   "display_name": ".venv",
   "language": "python",
   "name": "python3"
  },
  "language_info": {
   "codemirror_mode": {
    "name": "ipython",
    "version": 3
   },
   "file_extension": ".py",
   "mimetype": "text/x-python",
   "name": "python",
   "nbconvert_exporter": "python",
   "pygments_lexer": "ipython3",
   "version": "3.11.3"
  }
 },
 "nbformat": 4,
 "nbformat_minor": 5
}
