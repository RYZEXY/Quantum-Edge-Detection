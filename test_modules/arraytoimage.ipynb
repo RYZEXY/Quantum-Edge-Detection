{
 "cells": [
  {
   "cell_type": "code",
   "execution_count": 1,
   "id": "86842909",
   "metadata": {},
   "outputs": [],
   "source": [
    "from PIL import Image\n",
    "import numpy as np\n",
    "import matplotlib.pyplot as plt\n",
    "\n"
   ]
  },
  {
   "cell_type": "code",
   "execution_count": 2,
   "id": "ec277a74",
   "metadata": {},
   "outputs": [],
   "source": [
    "def load_image(filepath, size=(16, 16)):\n",
    "    img = Image.open(filepath).convert('L')  # Grayscale\n",
    "    img = img.resize(size, Image.Resampling.LANCZOS)\n",
    "    img_array = np.array(img)\n",
    "    return img_array\n",
    "def normalize_image(image, bits=3):\n",
    "    max_val = 2**bits - 1\n",
    "    return np.round((image / 255) * max_val).astype(int)\n"
   ]
  },
  {
   "cell_type": "code",
   "execution_count": 3,
   "id": "9db55ce7",
   "metadata": {},
   "outputs": [
    {
     "name": "stdout",
     "output_type": "stream",
     "text": [
      "Saved as batman32x32.png\n"
     ]
    }
   ],
   "source": [
    "image = np.loadtxt(\"normalized_image.txt\", dtype=int)\n",
    "\n",
    "# 2. Convert to 8-bit values if necessary (e.g., from 0–7 to 0–255)\n",
    "if image.max() <= 7:\n",
    "    image = (image * (255 // image.max())).astype(np.uint8)\n",
    "else:\n",
    "    image = image.astype(np.uint8)\n",
    "\n",
    "# 3. Make sure it's 2D (grayscale)\n",
    "assert image.ndim == 2, \"Expected a 2D grayscale image array\"\n",
    "\n",
    "# 4. Resize to 32x32\n",
    "img = Image.fromarray(image, mode='L')  # 'L' = 8-bit grayscale\n",
    "img = img.resize((32, 32), Image.Resampling.LANCZOS)\n",
    "\n",
    "image = normalize_image(image, bits=3)\n",
    "\n",
    "# 5. Save to PNG\n",
    "img.save(\"square.png\")\n",
    "print(\"Saved as batman32x32.png\")"
   ]
  },
  {
   "cell_type": "code",
   "execution_count": 4,
   "id": "72e8ebd8",
   "metadata": {},
   "outputs": [
    {
     "data": {
      "image/png": "[encoded data removed]",
      "text/plain": [
       "<Figure size 640x480 with 2 Axes>"
      ]
     },
     "metadata": {},
     "output_type": "display_data"
    }
   ],
   "source": [
    "plt.imshow(image, cmap='gray', interpolation='nearest')\n",
    "plt.colorbar(label='Intensity')\n",
    "plt.title('Grayscale Image')\n",
    "plt.axis('off')  # Hide axis ticks\n",
    "plt.show()\n"
   ]
  }
 ],
 "metadata": {
  "kernelspec": {
   "display_name": ".venv",
   "language": "python",
   "name": "python3"
  },
  "language_info": {
   "codemirror_mode": {
    "name": "ipython",
    "version": 3
   },
   "file_extension": ".py",
   "mimetype": "text/x-python",
   "name": "python",
   "nbconvert_exporter": "python",
   "pygments_lexer": "ipython3",
   "version": "3.11.3"
  }
 },
 "nbformat": 4,
 "nbformat_minor": 5
}
