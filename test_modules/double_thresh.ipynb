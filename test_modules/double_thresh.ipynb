{
 "cells": [
  {
   "cell_type": "code",
   "execution_count": null,
   "id": "097fdd23",
   "metadata": {},
   "outputs": [],
   "source": [
    "from qiskit import QuantumCircuit, QuantumRegister, ClassicalRegister, transpile\n",
    "from qiskit.circuit.library import QFTGate  \n",
    "from qiskit_aer import AerSimulator\n",
    "from qiskit_aer.primitives import Sampler as AerSampler\n",
    "from qiskit.transpiler.preset_passmanagers import generate_preset_pass_manager\n",
    "from qiskit.visualization import plot_histogram\n",
    "import matplotlib.pyplot as plt\n",
    "import numpy as np\n",
    "from qiskit.circuit.library.basis_change import QFT\n",
    "from qiskit.circuit.library import GroverOperator, MCMT, ZGate\n",
    "import sys\n",
    "import os\n",
    "\n",
    "parent_dir = os.path.abspath(os.path.join(os.getcwd(), os.pardir))\n",
    "if parent_dir not in sys.path:\n",
    "    sys.path.insert(0, parent_dir)\n",
    "\n",
    "from modules.enhanced_grover import filter_oracle\n",
    "\n"
   ]
  },
  {
   "cell_type": "code",
   "execution_count": null,
   "id": "8e99b1c4",
   "metadata": {},
   "outputs": [],
   "source": [
    "def threshold(oracle, sign, grad, ancillary, threshold):\n",
    "    qc = QuantumCircuit(grad, sign, ancillary, oracle)\n",
    "    og = filter_oracle(threshold)  \n",
    "    cog = og.control(2, label=\"Og\")\n",
    "    qc.x(ancillary)\n",
    "    qc.h(oracle)\n",
    "\n",
    "    qc.append(cog, list(oracle) + list(sign) + list(grad))\n",
    "    qc.append(cog, list(oracle) + list(sign) + list(grad))\n",
    "\n",
    "    qc.h(oracle)\n",
    "\n",
    "    return qc\n"
   ]
  },
  {
   "cell_type": "code",
   "execution_count": null,
   "id": "e89351ef",
   "metadata": {},
   "outputs": [],
   "source": []
  }
 ],
 "metadata": {
  "kernelspec": {
   "display_name": ".venv",
   "language": "python",
   "name": "python3"
  },
  "language_info": {
   "codemirror_mode": {
    "name": "ipython",
    "version": 3
   },
   "file_extension": ".py",
   "mimetype": "text/x-python",
   "name": "python",
   "nbconvert_exporter": "python",
   "pygments_lexer": "ipython3",
   "version": "3.11.3"
  }
 },
 "nbformat": 4,
 "nbformat_minor": 5
}
