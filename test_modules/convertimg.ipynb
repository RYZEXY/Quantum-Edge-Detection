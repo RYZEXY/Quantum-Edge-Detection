{
 "cells": [
  {
   "cell_type": "code",
   "execution_count": 6,
   "id": "5c1ad3f7",
   "metadata": {},
   "outputs": [],
   "source": [
    "from PIL import Image\n",
    "import numpy as np\n",
    "import matplotlib.pyplot as plt\n",
    "\n"
   ]
  },
  {
   "cell_type": "code",
   "execution_count": 7,
   "id": "ca1cb9a0",
   "metadata": {},
   "outputs": [],
   "source": [
    "def load_image(filepath, size=(16, 16)):\n",
    "    img = Image.open(filepath).convert('L')  # Grayscale\n",
    "    img = img.resize(size, Image.Resampling.LANCZOS)\n",
    "    img_array = np.array(img)\n",
    "    return img_array"
   ]
  },
  {
   "cell_type": "code",
   "execution_count": 8,
   "id": "7cda2a87",
   "metadata": {},
   "outputs": [],
   "source": [
    "def normalize_image(image, bits):\n",
    "    max_val = 2**bits - 1\n",
    "    return np.round((image / 255) * max_val).astype(int)\n"
   ]
  },
  {
   "cell_type": "code",
   "execution_count": 9,
   "id": "26740051",
   "metadata": {},
   "outputs": [
    {
     "name": "stdout",
     "output_type": "stream",
     "text": [
      "[[15 15 15 15 15 15 15 15 15 15 15 15 15 15 15 15]\n",
      " [15 15 14 14 14 14 15 15 15 15 14 14 14 14 15 15]\n",
      " [15 13  2  1  1  2 13 15 15 12  1  1  1  3 14 15]\n",
      " [13  3  4  5  4  3  2 14 12  2  4  4  4  3  3 14]\n",
      " [ 1  4 14 13  5  4  4  2  2  4  4  4  4  4  3  2]\n",
      " [ 0  5 12  5  4  4  4  4  4  4  4  4  4  4  3  1]\n",
      " [ 0  4  4  4  4  4  4  4  4  4  4  4  4  4  3  1]\n",
      " [ 2  3  4  4  4  4  4  4  4  4  4  4  4  4  3  4]\n",
      " [14  4  3  4  4  4  4  4  4  4  4  4  4  2  5 15]\n",
      " [15 14  3  3  4  4  4  4  4  4  4  4  2  4 15 15]\n",
      " [15 15 14  3  3  4  4  4  4  4  4  2  4 15 15 15]\n",
      " [15 15 15 14  3  3  4  4  4  4  2  4 15 15 15 15]\n",
      " [15 15 15 15 14  5  2  4  4  2  6 15 15 15 15 15]\n",
      " [15 15 15 15 15 15  5  2  2  6 15 15 15 15 15 15]\n",
      " [15 15 15 15 15 15 15  4  6 15 15 15 15 15 15 15]\n",
      " [15 15 15 15 15 15 15 15 15 15 15 15 15 15 15 15]]\n"
     ]
    }
   ],
   "source": [
    "image = load_image('heartimg.png',size=(16,16))\n",
    "image = normalize_image(image, bits=4)\n",
    "print(image)"
   ]
  },
  {
   "cell_type": "code",
   "execution_count": 10,
   "id": "df22dc7d",
   "metadata": {},
   "outputs": [
    {
     "data": {
      "image/png": "[encoded data removed]",
      "text/plain": [
       "<Figure size 640x480 with 2 Axes>"
      ]
     },
     "metadata": {},
     "output_type": "display_data"
    }
   ],
   "source": [
    "plt.imshow(image, cmap='gray', interpolation='nearest')\n",
    "plt.colorbar(label='Intensity')\n",
    "plt.title('Grayscale Image')\n",
    "plt.axis('off')  # Hide axis ticks\n",
    "plt.show()\n"
   ]
  }
 ],
 "metadata": {
  "kernelspec": {
   "display_name": ".venv",
   "language": "python",
   "name": "python3"
  },
  "language_info": {
   "codemirror_mode": {
    "name": "ipython",
    "version": 3
   },
   "file_extension": ".py",
   "mimetype": "text/x-python",
   "name": "python",
   "nbconvert_exporter": "python",
   "pygments_lexer": "ipython3",
   "version": "3.11.3"
  }
 },
 "nbformat": 4,
 "nbformat_minor": 5
}
