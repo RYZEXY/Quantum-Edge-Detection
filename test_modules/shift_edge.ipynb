{
 "cells": [
  {
   "cell_type": "code",
   "execution_count": 4,
   "id": "a7c1f31b",
   "metadata": {},
   "outputs": [],
   "source": [
    "from qiskit import QuantumCircuit, QuantumRegister, ClassicalRegister, transpile\n",
    "from qiskit.circuit.library import QFTGate  \n",
    "from qiskit_aer import AerSimulator\n",
    "from qiskit_aer.primitives import Sampler as AerSampler\n",
    "from qiskit.transpiler.preset_passmanagers import generate_preset_pass_manager\n",
    "from qiskit.visualization import plot_histogram\n",
    "import matplotlib.pyplot as plt\n",
    "import numpy as np\n",
    "from qiskit.circuit.library.basis_change import QFT\n",
    "from qiskit.circuit.library import GroverOperator, MCMT, ZGate\n",
    "import sys\n",
    "import os\n",
    "\n",
    "parent_dir = os.path.abspath(os.path.join(os.getcwd(), os.pardir))\n",
    "if parent_dir not in sys.path:\n",
    "    sys.path.insert(0, parent_dir)\n",
    "\n",
    "from modules.ladder import ladder_up\n"
   ]
  },
  {
   "cell_type": "code",
   "execution_count": 5,
   "id": "aa96c5c7",
   "metadata": {},
   "outputs": [],
   "source": [
    "def shift_edge(pos,sign,a):\n",
    "    qc = QuantumCircuit(pos, sign, a, name = 'Shift')\n",
    "    \n",
    "    qc.cx(sign,a)\n",
    "    qc.ch(a,sign) \n",
    "\n",
    "    ladder_control = ladder_up(pos).control(1)\n",
    "\n",
    "\n",
    "    qc.append(ladder_control, list(sign) + list(pos))\n",
    "\n",
    "    return qc"
   ]
  },
  {
   "cell_type": "code",
   "execution_count": 6,
   "id": "9f393fca",
   "metadata": {},
   "outputs": [
    {
     "data": {
      "image/png": "[encoded data removed]",
      "text/plain": [
       "<Figure size 352.271x284.278 with 1 Axes>"
      ]
     },
     "execution_count": 6,
     "metadata": {},
     "output_type": "execute_result"
    }
   ],
   "source": [
    "x = QuantumRegister(1, name='x')\n",
    "s = QuantumRegister(1, name='s')\n",
    "a = QuantumRegister(1, name='a')\n",
    "\n",
    "shift = shift_edge(x,s,a)\n",
    "qc = QuantumCircuit(x,s,a)\n",
    "qc.append(shift, list(x) + list(s)+list(a))\n",
    "qc.decompose().draw('mpl')"
   ]
  }
 ],
 "metadata": {
  "kernelspec": {
   "display_name": ".venv",
   "language": "python",
   "name": "python3"
  },
  "language_info": {
   "codemirror_mode": {
    "name": "ipython",
    "version": 3
   },
   "file_extension": ".py",
   "mimetype": "text/x-python",
   "name": "python",
   "nbconvert_exporter": "python",
   "pygments_lexer": "ipython3",
   "version": "3.11.3"
  }
 },
 "nbformat": 4,
 "nbformat_minor": 5
}
