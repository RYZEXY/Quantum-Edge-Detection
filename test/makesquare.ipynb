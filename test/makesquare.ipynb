{
 "cells": [
  {
   "cell_type": "code",
   "execution_count": 1,
   "id": "9678fcb5",
   "metadata": {},
   "outputs": [],
   "source": [
    "import numpy as np\n",
    "from PIL import Image\n",
    "\n",
    "# Create a 16x16 black image\n",
    "image = np.zeros((16, 16), dtype=np.uint8)\n",
    "\n",
    "# Define the coordinates for the centered 8x8 square\n",
    "start = (16 - 8) // 2  # = 4\n",
    "end = start + 8        # = 12\n",
    "\n",
    "# Set the center 8x8 region to white (255 for grayscale)\n",
    "image[start:end, start:end] = 255\n",
    "\n",
    "# Convert the NumPy array to a PIL image\n",
    "img = Image.fromarray(image, mode='L')\n",
    "\n",
    "# Save the image as a JPEG file\n",
    "img.save(\"centered_8x8_square.jpg\")"
   ]
  }
 ],
 "metadata": {
  "kernelspec": {
   "display_name": ".venv",
   "language": "python",
   "name": "python3"
  },
  "language_info": {
   "codemirror_mode": {
    "name": "ipython",
    "version": 3
   },
   "file_extension": ".py",
   "mimetype": "text/x-python",
   "name": "python",
   "nbconvert_exporter": "python",
   "pygments_lexer": "ipython3",
   "version": "3.11.3"
  }
 },
 "nbformat": 4,
 "nbformat_minor": 5
}
